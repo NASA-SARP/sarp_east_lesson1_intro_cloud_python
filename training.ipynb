{
 "cells": [
  {
   "cell_type": "markdown",
   "id": "2afed2b0-da09-4fe6-9e95-273f8d5430d1",
   "metadata": {
    "user_expressions": []
   },
   "source": [
    "# Introduction to the Cloud and Python\n"
   ]
  },
  {
   "cell_type": "markdown",
   "id": "702a4cf0-b623-4432-8058-041b2a7b42c5",
   "metadata": {
    "user_expressions": []
   },
   "source": [
    "::::{grid}\n",
    "\n",
    ":::{card}\n",
    ":header: Context 🤔\n",
    "Today we are getting started with code! We'll be: 1) Learning to use a Jupyter notebook 2) Establishing some of the base code ingredients such as variables and data types\n",
    ":::\n",
    "\n",
    ":::{card}\n",
    ":header: Outcome 🎓\n",
    "Get comfortable assigning and manipulating varibles. Be able to name several data types.\n",
    ":::\n",
    "\n",
    ":::{card}\n",
    ":header: Skills 🤓\n",
    "Navigating the JupyterHub and Jupyter Notebooks.\n",
    ":::\n",
    "::::\n"
   ]
  },
  {
   "cell_type": "markdown",
   "id": "b714acfb-c847-402a-855a-08cd2ef5a130",
   "metadata": {
    "user_expressions": []
   },
   "source": [
    "## The command line\n",
    "\n",
    "Looking at the command line is like seeing the inside of your computer. It's as though we tipped up the hood off the car and checking the oil instead of using the light on the dashboard to tell us about how the car oil is doing.\n",
    "\n",
    "We aren't going to do a full session right now on the command line, but we are going to talk about navigating between folders and performing an important commmand for tutorials this week: `git clone`."
   ]
  },
  {
   "cell_type": "markdown",
   "id": "ac6c2b8c-bce8-414a-8b90-549d99667ff2",
   "metadata": {},
   "source": [
    "When using the command line there isn't anything visual to move your mouse over and click. The way of interacting with your computer by clicking is called using the Graphical User Interface, or GUI (pronounced like gooey gooey slime). In the command line you navigate the computer not by clicking but by typing. At the core you can do many of the same things in the command line that you usually do in the GUI, such as navigating between files on your computer, copying files, or deleting files."
   ]
  },
  {
   "cell_type": "markdown",
   "id": "2a2df581-f46a-4173-829f-41ed848fdaea",
   "metadata": {},
   "source": [
    "This is the prompt you should see when you enter a terminal session. Your cursor is set after the `$` for you to type a command."
   ]
  },
  {
   "cell_type": "markdown",
   "id": "fd0775c2-7946-4a66-9998-fd9ed87dcf00",
   "metadata": {
    "user_expressions": []
   },
   "source": [
    "```\n",
    "(notebook) jovyan@jupyter-rwegener:~$\n",
    "```"
   ]
  },
  {
   "cell_type": "markdown",
   "id": "d10ad6a3-269e-48fe-afe7-7cdffef38d65",
   "metadata": {
    "user_expressions": []
   },
   "source": [
    "The task we will be using the command line for is copying the files for our lesson into our private folder space. To do that, type `git clone` and then the path to the files."
   ]
  },
  {
   "cell_type": "markdown",
   "id": "c1ab2324-fd94-42b2-8e81-107b79e95ad0",
   "metadata": {
    "user_expressions": []
   },
   "source": [
    "```\n",
    "(notebook) jovyan@jupyter-rwegener:~$ git clone https://github.com/NASA-SARP/lesson1_intro_cloud_python_east.git\n",
    "```"
   ]
  },
  {
   "cell_type": "markdown",
   "id": "35fdfc3e-58b9-4684-baa1-3e70f9f78aff",
   "metadata": {
    "user_expressions": []
   },
   "source": [
    "Hit enter for the command to run."
   ]
  },
  {
   "cell_type": "markdown",
   "id": "c49d3eeb-0bcc-43db-8b4d-d072b2f1ed22",
   "metadata": {
    "user_expressions": []
   },
   "source": [
    "When we run git clone we are copying files from a place they are publically stored (here [https://github.com/NASA-SARP/lesson1_intro_cloud_python_east](https://github.com/NASA-SARP/lesson1_intro_cloud_python_east), in this case) to our server.\n",
    "\n",
    "\n",
    "```{image} https://1000logos.net/wp-content/uploads/2021/05/GitHub-logo.png\n",
    ":alt: Github logo\n",
    ":width: 400px\n",
    ":align: center\n",
    "```\n",
    "\n",
    "For context, `git` is a tool for managing code that is usually used in connection with GitHub. Github is a public online repository for code. Github also provides tools for tracking changes that get made to the code over time. It is a really good way to share your code and make it available to others. Importantly, Github also has a fun octopus-cat \"octocat\" mascot that can be found sporting a variety of styles.\n",
    "\n",
    "\n",
    "```{image} https://octodex.github.com/images/spidertocat.png\n",
    ":alt: spiderman octocat\n",
    ":width: 400px\n",
    ":align: center\n",
    "```"
   ]
  },
  {
   "cell_type": "markdown",
   "id": "8956d00b-129d-4566-b892-de2e9487b653",
   "metadata": {},
   "source": [
    "## Jupyter Notebooks\n",
    "\n",
    "The primary way of writing code during lessons this summer will be in Jupyter Notebooks.  Notebooks are a bit of a unique way of writing code, but they have become popular in data science fields due to the flexbility they give the user to iterate on the same dataset many times and their great visualization support.  Read more in depth about Jupyter notebooks [here](https://www.dataquest.io/blog/jupyter-notebook-tutorial/).\n",
    "\n",
    "Jupyter notebooks are made up of **cells**, or individual chunks of input.  Cells can be either **markdown cells**, which are made up of text, or code cells. You run the code in a cell by hitting the `Run` button in the top bar or using `shift + enter`.\n",
    "\n",
    "A few links for interested individuals to explore:\n",
    "* [Markdown tutorial](https://www.markdowntutorial.com/lesson/1/)\n",
    "* [Markdown reference](https://commonmark.org/help/)\n",
    "* [Jupyter shortcut keys](https://towardsdatascience.com/jypyter-notebook-shortcuts-bf0101a98330)"
   ]
  },
  {
   "cell_type": "markdown",
   "id": "57566fe6-22bd-4849-895e-156d65fd85a4",
   "metadata": {
    "user_expressions": []
   },
   "source": [
    ":::{admonition} Checkin\n",
    ":class: tip\n",
    "\n",
    "Create a new cell in your notebook. Change it from a code cell to a markdown cell, type something into the cell and then run it.\n",
    "\n",
    ":::"
   ]
  },
  {
   "cell_type": "code",
   "execution_count": null,
   "id": "67db9289-1a38-4047-be51-e50b9d456afb",
   "metadata": {},
   "outputs": [],
   "source": []
  },
  {
   "cell_type": "markdown",
   "id": "a344b620-10d3-43e6-9b12-0d9689024cda",
   "metadata": {
    "user_expressions": []
   },
   "source": [
    "# The Python programming language 🐍"
   ]
  },
  {
   "cell_type": "markdown",
   "id": "e7e6dd3b-1bda-4092-a00a-d29c0af041c7",
   "metadata": {},
   "source": [
    "## Communicating with the computer\n",
    "\n",
    "Programming is about getting a computer to do something for you.  You do this all the time when you use a computer.  You tell it to access the internet or download a file for you.  You tell it take a screenshot and save it to your Desktop.  In those scenarios you are telling a computer to do something using your mouse or trackpad.  In coding you are telling a computer what to do by learning how to write text that the computer understands.\n",
    "\n",
    "One of the first tasks programmers ask a computer to do is repeat a line of text back to you.  In Python, the instruction for that is `print()`.  Learning what words the computer understands is called learning **syntax**."
   ]
  },
  {
   "cell_type": "markdown",
   "id": "01ae663c-f20a-4026-848e-f12f36fbecd8",
   "metadata": {
    "user_expressions": []
   },
   "source": [
    ":::{seealso} Vocabulary\n",
    "\n",
    "**Syntax:** The words and characters of a programming language which a computer can interpret. The computer interprets the syntax to do an action for the programmer.\n",
    "\n",
    ":::"
   ]
  },
  {
   "cell_type": "code",
   "execution_count": null,
   "id": "36f6e831-c837-4a50-8222-e7ed79dca3b4",
   "metadata": {},
   "outputs": [],
   "source": [
    "# repeat a line of text back to you: \"printing\"\n",
    "# modify it to change the output\n",
    "print('Hello, world')\n",
    "print(\"Boa tarde, mundo\")  # single ' and double \" are the same in Python"
   ]
  },
  {
   "cell_type": "code",
   "execution_count": null,
   "id": "c728eb52-3c82-4fd8-ae20-2a51b3b6e68c",
   "metadata": {},
   "outputs": [],
   "source": [
    "# you can also print numbers\n",
    "print(3.1415927)"
   ]
  },
  {
   "cell_type": "code",
   "execution_count": null,
   "id": "18185e01-ef95-401b-9668-43e5d8e073be",
   "metadata": {},
   "outputs": [],
   "source": [
    "# you can print a couple of things together if you seperate them by commas\n",
    "print('hi ', 8943)"
   ]
  },
  {
   "cell_type": "markdown",
   "id": "26f02723-28aa-41d6-bf17-5c46992911fa",
   "metadata": {},
   "source": [
    "`print` statements seem a little useless on their own, but when you have a more complex block of code they are helpful for confirming that what you think is happening is, in fact, happening.  They are useful for finding errors in your code as well."
   ]
  },
  {
   "cell_type": "markdown",
   "id": "6109f3a0-7a1e-4ada-bb65-c23eb8aa3656",
   "metadata": {
    "slideshow": {
     "slide_type": "slide"
    },
    "tags": [],
    "user_expressions": []
   },
   "source": [
    "## Assigning Variables"
   ]
  },
  {
   "cell_type": "markdown",
   "id": "b0f658cd-8d6d-498e-ac10-62f7570733b8",
   "metadata": {
    "tags": []
   },
   "source": [
    "As programming tasks get more complex we want to be able to keep track of many values at once.  We do this is by assigning a name to values we want to keep track of. When we give a value a name it becomes a **variable**. There are different ways to think about variables that are related to the location of an object on your computer, but for practical use I like this framing."
   ]
  },
  {
   "cell_type": "code",
   "execution_count": 6,
   "id": "5416c066-e458-4d43-844d-81bfa031c32b",
   "metadata": {
    "tags": []
   },
   "outputs": [],
   "source": [
    "# Assigning the number 7 to a variable I named x\n",
    "x = 7\n",
    "# Assigning the number 2 to a variable I named y\n",
    "y = 2"
   ]
  },
  {
   "cell_type": "code",
   "execution_count": 7,
   "id": "91fc6739-4d20-4d62-8562-b0975c6818ee",
   "metadata": {},
   "outputs": [],
   "source": [
    "# assigning the text 'pineapple' to a variable I named my_lunch\n",
    "my_lunch = 'pineapple'"
   ]
  },
  {
   "cell_type": "markdown",
   "id": "89d6ba4e-849d-4b9e-809d-e4c127190bdf",
   "metadata": {
    "user_expressions": []
   },
   "source": [
    "````{seealso} Vocabulary\n",
    "**Variable:** A named value. The same variable will often change values throughout a program.\n",
    "\n",
    "````"
   ]
  },
  {
   "cell_type": "markdown",
   "id": "c945396d-034d-47fa-a839-69115c6471b7",
   "metadata": {},
   "source": [
    "How do we see our variables?  We `print` them."
   ]
  },
  {
   "cell_type": "code",
   "execution_count": 8,
   "id": "b66b2907-5c8b-4a65-a4c4-17017910f9af",
   "metadata": {},
   "outputs": [
    {
     "name": "stdout",
     "output_type": "stream",
     "text": [
      "7\n",
      "y is 2\n"
     ]
    }
   ],
   "source": [
    "print(x)\n",
    "print('y is', y)"
   ]
  },
  {
   "cell_type": "markdown",
   "id": "b088552c-d2b5-45b0-a798-db2eeac71a84",
   "metadata": {},
   "source": [
    "An example with words instead of numbers"
   ]
  },
  {
   "cell_type": "code",
   "execution_count": 9,
   "id": "4d7a6170-be38-48e0-9aed-f28b5da368de",
   "metadata": {},
   "outputs": [
    {
     "name": "stdout",
     "output_type": "stream",
     "text": [
      "Sunday\n"
     ]
    }
   ],
   "source": [
    "today = 'Sunday' # Change this to be the actual day\n",
    "tomorrow = 'Friday'\n",
    "print(today)"
   ]
  },
  {
   "cell_type": "markdown",
   "id": "cfb787e6-30dd-4dd7-b6e1-4636167cffb0",
   "metadata": {
    "tags": [],
    "user_expressions": []
   },
   "source": [
    "### 🌟 Key Clarification - Order of Execution\n",
    "One fundamental principle of code is that:\n",
    "\n",
    "> **code executes things in a certain order - from top to bottom**"
   ]
  },
  {
   "cell_type": "code",
   "execution_count": 10,
   "id": "7e97b592-61b2-4d30-9e9a-9e90c991cb87",
   "metadata": {},
   "outputs": [
    {
     "name": "stdout",
     "output_type": "stream",
     "text": [
      "this will print first\n",
      "this will print second\n"
     ]
    }
   ],
   "source": [
    "print('this will print first')\n",
    "print('this will print second')"
   ]
  },
  {
   "cell_type": "markdown",
   "id": "95b6da19-d164-4e55-a318-e1ec54480346",
   "metadata": {},
   "source": [
    "We can make this difference really obvious by using the syntax `time.sleep(3)` to force Python to wait 3 seconds after it executes the first line."
   ]
  },
  {
   "cell_type": "code",
   "execution_count": 11,
   "id": "6b2eeb0c-af98-4bde-bb2e-ed6b7e137bcc",
   "metadata": {},
   "outputs": [],
   "source": [
    "import time"
   ]
  },
  {
   "cell_type": "code",
   "execution_count": 12,
   "id": "f0cbae94-55ba-49b4-82ec-4161ece4f149",
   "metadata": {},
   "outputs": [
    {
     "name": "stdout",
     "output_type": "stream",
     "text": [
      "this will print first\n",
      "this will print second\n"
     ]
    }
   ],
   "source": [
    "print('this will print first')\n",
    "time.sleep(3)  # Wait 3 seconds\n",
    "print('this will print second')"
   ]
  },
  {
   "cell_type": "markdown",
   "id": "e19f9cd8-7c28-48b5-a344-624b0941d53e",
   "metadata": {},
   "source": [
    "If you define a variable and change it further down in the cell the output value will be the most recent value."
   ]
  },
  {
   "cell_type": "code",
   "execution_count": 13,
   "id": "9403d6af-850f-4a50-9293-d947e7cffbb9",
   "metadata": {},
   "outputs": [
    {
     "name": "stdout",
     "output_type": "stream",
     "text": [
      "print #1 Sunday\n",
      "print #2 Thursday\n",
      "print #3 Arbor Day\n"
     ]
    }
   ],
   "source": [
    "today = 'Sunday'\n",
    "print('print #1', today)\n",
    "today = 'Thursday'\n",
    "print('print #2', today)\n",
    "today = 'Arbor Day'\n",
    "print('print #3', today)"
   ]
  },
  {
   "cell_type": "markdown",
   "id": "3491e372-824c-432d-807e-46e6ea5742ca",
   "metadata": {},
   "source": [
    "The importance of sequence is also applied to the order in which you run the cells in your jupyter notebook."
   ]
  },
  {
   "cell_type": "code",
   "execution_count": 14,
   "id": "b6400a58-cbd1-4ad9-b196-ed4ed46cafa4",
   "metadata": {},
   "outputs": [],
   "source": [
    "today = 'Sunday'"
   ]
  },
  {
   "cell_type": "code",
   "execution_count": 15,
   "id": "fc740697-e1f1-4b8d-b15e-447c64e08708",
   "metadata": {},
   "outputs": [],
   "source": [
    "today = 'Monday'"
   ]
  },
  {
   "cell_type": "code",
   "execution_count": 16,
   "id": "45fa884a-97c5-4abd-b75a-91eb0115aecd",
   "metadata": {
    "scrolled": true
   },
   "outputs": [
    {
     "name": "stdout",
     "output_type": "stream",
     "text": [
      "Monday\n"
     ]
    }
   ],
   "source": [
    "print(today)"
   ]
  },
  {
   "cell_type": "markdown",
   "id": "52bd99f8-ec48-48c0-b5f3-36d2062bb4be",
   "metadata": {
    "jp-MarkdownHeadingCollapsed": true,
    "tags": []
   },
   "source": [
    ":::{admonition} 💡 Key Ideas\n",
    ":class: note\n",
    "\n",
    "1. Assiging a variable means giving a name to a value (a number, a piece of text, etc.) that you care about.  \n",
    "2. You can change the value of your variable.  Code executes from top to bottom so you need to follow along to keep track of changes to your variable.\n",
    "\n",
    ":::"
   ]
  },
  {
   "cell_type": "markdown",
   "id": "2f0ab7a6-aa5b-4a68-a085-616b10c2cc11",
   "metadata": {
    "user_expressions": []
   },
   "source": [
    ":::{admonition} Checkin\n",
    ":class: tip\n",
    "\n",
    "What is the output of the following lines of code:\n",
    "```\n",
    "x = 7\n",
    "x = 9\n",
    "y = x + 2\n",
    "print('y is ', y, ' and x is ', x)\n",
    "```\n",
    "a) y is 9 and x is 7\n",
    "\n",
    "b) y is 11 and x is 9\n",
    "\n",
    "c) y is 9 and x is 9\n",
    "\n",
    "d) y is 11 and x is 7\n",
    "\n",
    "e) y is 7 and x is 9\n",
    " \n",
    "[Poll link](https://PollEv.com/clickable_images/WHersUlQe5SsG68KOHyfL/respond)\n",
    ":::"
   ]
  },
  {
   "cell_type": "markdown",
   "id": "668ff71b-c0d5-4301-a1a3-ceb4bd13b528",
   "metadata": {
    "tags": []
   },
   "source": [
    "## 🧩 Data Types"
   ]
  },
  {
   "cell_type": "markdown",
   "id": "1db47582-a7b4-44dc-bc8a-d29cea8f4980",
   "metadata": {
    "user_expressions": []
   },
   "source": [
    "```{image} images/L1_legos.jpeg\n",
    ":alt: Lego bricks\n",
    ":width: 400px\n",
    ":align: center\n",
    "```"
   ]
  },
  {
   "cell_type": "markdown",
   "id": "b191b3c8-03c8-4dee-bda7-6ca107aad74b",
   "metadata": {},
   "source": [
    "So far in our code we have used text and numbers as our values.  When we talk about our values we often refer to their **data type**.  A data type is a way of classifying a value in Python that allows the computer to understand what it can do with the value. \n",
    "\n",
    "\"text\" and \"number\" aren't actually data types in Python, but they do have corresponding data types:\n",
    "\n",
    "| Python Data Type | Plain English  | Example |\n",
    "|:---|:---:|:---:|\n",
    "| `string` (`str`)| text | 'Tuesday' or \"Tuesday\" |\n",
    "|`integer` (`bool`)|  whole number  | 67 |\n",
    "|`float` (`float`)| decimal number | 2.9 |\n",
    "\n",
    "Notice that with strings we tell Python that we want that as a data type by using quotations, `''` or `\"\"`, around our value."
   ]
  },
  {
   "cell_type": "markdown",
   "id": "ef9317a0-44e6-4825-8901-eb2d936357ec",
   "metadata": {},
   "source": [
    "One more data type I'll introduce today is the **boolean data type**.  Booleans have two possible values: True or False.\n",
    "\n",
    "| Python Data Type| English    | Example |\n",
    "|:---|:---:|:---:|\n",
    "|  `boolean` (`bool`)| yes/no  | True or False |"
   ]
  },
  {
   "cell_type": "code",
   "execution_count": 17,
   "id": "ff765f46-3509-40fd-b23f-14a3ab39ec3b",
   "metadata": {},
   "outputs": [
    {
     "name": "stdout",
     "output_type": "stream",
     "text": [
      "True\n"
     ]
    }
   ],
   "source": [
    "# Example boolean\n",
    "x = True\n",
    "print(x)"
   ]
  },
  {
   "cell_type": "code",
   "execution_count": 18,
   "id": "b4b7466b-1328-4f6c-93e8-d7f3aa4e0928",
   "metadata": {},
   "outputs": [
    {
     "ename": "NameError",
     "evalue": "name 'true' is not defined",
     "output_type": "error",
     "traceback": [
      "\u001b[1;31m---------------------------------------------------------------------------\u001b[0m",
      "\u001b[1;31mNameError\u001b[0m                                 Traceback (most recent call last)",
      "\u001b[1;32m<ipython-input-18-2423587323a9>\u001b[0m in \u001b[0;36m<module>\u001b[1;34m\u001b[0m\n\u001b[0;32m      1\u001b[0m \u001b[1;31m# Capitalization matters\u001b[0m\u001b[1;33m\u001b[0m\u001b[1;33m\u001b[0m\u001b[1;33m\u001b[0m\u001b[0m\n\u001b[1;32m----> 2\u001b[1;33m \u001b[0mx\u001b[0m \u001b[1;33m=\u001b[0m \u001b[0mtrue\u001b[0m\u001b[1;33m\u001b[0m\u001b[1;33m\u001b[0m\u001b[0m\n\u001b[0m",
      "\u001b[1;31mNameError\u001b[0m: name 'true' is not defined"
     ]
    }
   ],
   "source": [
    "# Capitalization matters\n",
    "x = true"
   ]
  },
  {
   "cell_type": "markdown",
   "id": "19c5e29c-617a-472c-a6cc-07c307f7a416",
   "metadata": {},
   "source": [
    "A list of Python data types can be found [here](https://www.w3schools.com/python/python_datatypes.asp)."
   ]
  },
  {
   "cell_type": "markdown",
   "id": "7f3bcce0-2725-4bd0-bb91-deb7b3fb97d6",
   "metadata": {
    "user_expressions": []
   },
   "source": [
    "````{seealso} Vocabulary\n",
    "**Data type:** a way to categorize data that tells the computer something about how we are going to be using the data\n",
    "\n",
    "````"
   ]
  },
  {
   "cell_type": "markdown",
   "id": "3871cbd9-12e9-48b8-bd3c-4687fad969cd",
   "metadata": {},
   "source": [
    "Why do we care about data types? The data type helps the computer understand what types of operations it can do on a value. Consider the + operation. Let's say we have the following variables:"
   ]
  },
  {
   "cell_type": "code",
   "execution_count": 1,
   "id": "66357fb2-7231-497d-9547-535b11f4b743",
   "metadata": {},
   "outputs": [],
   "source": [
    "x = 2\n",
    "y = 3\n",
    "a = 'cat'\n",
    "b = 'fish'"
   ]
  },
  {
   "cell_type": "markdown",
   "id": "0a926ec2-96d7-4202-83b8-d0ec64ff4013",
   "metadata": {},
   "source": [
    "What is the difference between `x + y` and `a + b`? Does `a + b` even make sense? Try them out on your own. \n",
    "\n",
    "Try it again and this time use a `\\` sign. What error do you get when you do `a/b`?"
   ]
  },
  {
   "cell_type": "markdown",
   "id": "bccad560-9c66-4976-9cc6-1a2a04bc9ad0",
   "metadata": {},
   "source": [
    ":::{admonition} 💡 Key Ideas\n",
    ":class: note\n",
    "\n",
    "We categorize our variables using data types.  This helps us understand what the expected values are.\n",
    "\n",
    ":::"
   ]
  },
  {
   "cell_type": "markdown",
   "id": "a6c8825d-44e2-4473-a9c3-45dcf3d91445",
   "metadata": {
    "tags": []
   },
   "source": [
    "## 🔳 Booleans and Comparisons"
   ]
  },
  {
   "cell_type": "markdown",
   "id": "6581b6dd-8b45-4e6e-bde0-021ff4ef19b0",
   "metadata": {
    "user_expressions": []
   },
   "source": [
    "Booleans might seem a bit useless on their own, but they become really useful when we get into comparisons, such as greater than, less than, and equal to."
   ]
  },
  {
   "cell_type": "markdown",
   "id": "8a2e145c-d4b9-482f-985a-8c09c7081f7b",
   "metadata": {
    "user_expressions": []
   },
   "source": [
    "```{image} ./images/comparison_operators.png\n",
    ":alt: Github logo\n",
    ":width: 600px\n",
    ":align: center\n",
    "```\n",
    "\n",
    "_Table from the [W3 schools Operators page](https://www.w3schools.com/python/python_operators.asp)._"
   ]
  },
  {
   "cell_type": "markdown",
   "id": "52b6fbf2-6ba0-4243-b9b3-9d79e30c6882",
   "metadata": {
    "user_expressions": []
   },
   "source": [
    "Examples"
   ]
  },
  {
   "cell_type": "code",
   "execution_count": 19,
   "id": "0f8617d5-3d35-49a6-8aae-491f56b123df",
   "metadata": {},
   "outputs": [
    {
     "data": {
      "text/plain": [
       "False"
      ]
     },
     "execution_count": 19,
     "metadata": {},
     "output_type": "execute_result"
    }
   ],
   "source": [
    "# Example of \"equal to\" syntax\n",
    "4+5 == 10"
   ]
  },
  {
   "cell_type": "code",
   "execution_count": 20,
   "id": "a4a7b143-dcc5-4cc7-9bab-f58cdb20de1e",
   "metadata": {},
   "outputs": [
    {
     "data": {
      "text/plain": [
       "True"
      ]
     },
     "execution_count": 20,
     "metadata": {},
     "output_type": "execute_result"
    }
   ],
   "source": [
    "# Example of \"greater than or equal to\" syntax\n",
    "2**10 >= 1000"
   ]
  },
  {
   "cell_type": "code",
   "execution_count": 21,
   "id": "22960fd3-588c-4a7d-aa6f-cad061ec9a98",
   "metadata": {},
   "outputs": [
    {
     "data": {
      "text/plain": [
       "False"
      ]
     },
     "execution_count": 21,
     "metadata": {},
     "output_type": "execute_result"
    }
   ],
   "source": [
    "# Example: Checking if a state code is New York\n",
    "state_code = 'WI'\n",
    "state_code == 'NY'"
   ]
  },
  {
   "cell_type": "code",
   "execution_count": 3,
   "id": "78a6c45b-aaa3-478e-b1ac-928522fc6585",
   "metadata": {},
   "outputs": [
    {
     "data": {
      "text/plain": [
       "6.0"
      ]
     },
     "execution_count": 3,
     "metadata": {},
     "output_type": "execute_result"
    }
   ],
   "source": [
    "# Python math (arithmetic operators)\n",
    "(8+4+6)/3"
   ]
  },
  {
   "cell_type": "markdown",
   "id": "ebceb480-6461-49f0-bef5-e108a6f05615",
   "metadata": {
    "jp-MarkdownHeadingCollapsed": true,
    "tags": [],
    "user_expressions": []
   },
   "source": [
    ":::{admonition} Checkin\n",
    ":class: tip\n",
    "\n",
    "Evaluate the output of the following:\n",
    "1. `8 == 8`\n",
    "2. `6 != 3+3`\n",
    "\n",
    "a) True, True\n",
    "\n",
    "b) True, False\n",
    "\n",
    "c) False, False\n",
    "\n",
    "d) False, True\n",
    "\n",
    "[Poll link](https://PollEv.com/clickable_images/WHersUlQe5SsG68KOHyfL/respond)\n",
    "\n",
    ":::"
   ]
  },
  {
   "cell_type": "markdown",
   "id": "919c1ec2-ef2c-4126-94af-205b98373f69",
   "metadata": {},
   "source": [
    ":::{admonition} 💡 Key Ideas\n",
    ":class: note\n",
    "\n",
    "* Boolean data types have a value of either `True` or `False`.\n",
    "* Booleans are especially handy when doing comparisons (Ex. greater than, less than) \n",
    "\n",
    ":::"
   ]
  },
  {
   "cell_type": "markdown",
   "id": "39fa9d95-e9bd-40d6-b41a-d85dce0e393e",
   "metadata": {
    "jp-MarkdownHeadingCollapsed": true,
    "tags": []
   },
   "source": [
    "### Comparing Multiple Items"
   ]
  },
  {
   "cell_type": "markdown",
   "id": "fee0cbff-49bc-48ce-a324-d9fec0d1ce72",
   "metadata": {},
   "source": [
    "If you want to compare more than one thing there are two possible ways to do that, depending on what you want to happen. If you want to compare multiple items and see if they are both true, you use `and`.  If you want to compare multiple items and see if either of them are true, you use `or`.\n",
    "\n",
    "| Operator   | Use |\n",
    "|:---:|:---|\n",
    "| `and`  | checks if **both** logical statements are True |\n",
    "| `or`  | checks if **either** logical statements is True |\n"
   ]
  },
  {
   "cell_type": "code",
   "execution_count": 22,
   "id": "b1a2eae6-1c15-4ba6-9904-7b8fdbff2a2d",
   "metadata": {},
   "outputs": [
    {
     "data": {
      "text/plain": [
       "True"
      ]
     },
     "execution_count": 22,
     "metadata": {},
     "output_type": "execute_result"
    }
   ],
   "source": [
    "True and True"
   ]
  },
  {
   "cell_type": "code",
   "execution_count": 23,
   "id": "02b04ec7-5d0f-4a65-8543-a30303c36e9d",
   "metadata": {},
   "outputs": [
    {
     "data": {
      "text/plain": [
       "False"
      ]
     },
     "execution_count": 23,
     "metadata": {},
     "output_type": "execute_result"
    }
   ],
   "source": [
    "True and False"
   ]
  },
  {
   "cell_type": "code",
   "execution_count": 24,
   "id": "15d998ff-f0c6-432e-a938-f0cf82955bda",
   "metadata": {},
   "outputs": [
    {
     "data": {
      "text/plain": [
       "True"
      ]
     },
     "execution_count": 24,
     "metadata": {},
     "output_type": "execute_result"
    }
   ],
   "source": [
    "True or False"
   ]
  },
  {
   "cell_type": "code",
   "execution_count": 25,
   "id": "fe335002-48fa-41d2-8c12-ad8dc825065a",
   "metadata": {},
   "outputs": [
    {
     "data": {
      "text/plain": [
       "True"
      ]
     },
     "execution_count": 25,
     "metadata": {},
     "output_type": "execute_result"
    }
   ],
   "source": [
    "True or True"
   ]
  },
  {
   "cell_type": "markdown",
   "id": "6ecbdeb3-0c74-48f2-867a-8768764bd496",
   "metadata": {},
   "source": [
    "Examples"
   ]
  },
  {
   "cell_type": "code",
   "execution_count": 26,
   "id": "95b8ed87-86b9-4322-af39-216e1220c42e",
   "metadata": {},
   "outputs": [
    {
     "data": {
      "text/plain": [
       "False"
      ]
     },
     "execution_count": 26,
     "metadata": {},
     "output_type": "execute_result"
    }
   ],
   "source": [
    "4 == 4 and 5 == 6\n",
    "# True and False -> False"
   ]
  },
  {
   "cell_type": "code",
   "execution_count": 27,
   "id": "9b903717-bfdc-4f91-b9ea-95c25db36c90",
   "metadata": {
    "scrolled": true
   },
   "outputs": [
    {
     "data": {
      "text/plain": [
       "True"
      ]
     },
     "execution_count": 27,
     "metadata": {},
     "output_type": "execute_result"
    }
   ],
   "source": [
    "5 < 6 and 6 < 7\n",
    "# True and True -> True"
   ]
  },
  {
   "cell_type": "code",
   "execution_count": 28,
   "id": "024bcb4f-b45c-419a-aed9-50bfd82a8bc5",
   "metadata": {},
   "outputs": [
    {
     "data": {
      "text/plain": [
       "True"
      ]
     },
     "execution_count": 28,
     "metadata": {},
     "output_type": "execute_result"
    }
   ],
   "source": [
    "4 == 4 or 5 == 6\n",
    "# True or False -> True"
   ]
  },
  {
   "cell_type": "markdown",
   "id": "66508e22-7ddd-4209-9ea9-e560abfce0f1",
   "metadata": {
    "user_expressions": []
   },
   "source": [
    ":::{admonition} Checkin\n",
    ":class: tip\n",
    "\n",
    "Evaluate the output of the following:\n",
    "1. `5 <= 6 and 5 != 5`\n",
    "2. `4 > 5 or 5 < 6`\n",
    "\n",
    ":::"
   ]
  },
  {
   "cell_type": "markdown",
   "id": "d1a45462-af98-47d9-bcea-6bc123084d43",
   "metadata": {},
   "source": [
    ":::{admonition} 💡 Key Ideas\n",
    ":class: note\n",
    "\n",
    "* `and` and `or` are ways to compare multiple conditions at the same time.\n",
    "* When using `and` you are asking if **all** of the items are true.  When using `or` you are asking if any **one** of the items is true.\n",
    "\n",
    ":::"
   ]
  },
  {
   "cell_type": "markdown",
   "id": "e84b5d1b-fb77-449b-90a4-3fa58221b92c",
   "metadata": {
    "jp-MarkdownHeadingCollapsed": true,
    "tags": []
   },
   "source": [
    "## ❓ `if` statements"
   ]
  },
  {
   "cell_type": "markdown",
   "id": "bc4954f7-532b-4092-9725-deba702e66dd",
   "metadata": {},
   "source": [
    "Often after a comparison we want to make a decision based on if the comparison was `True` or `False`.  For example, \n",
    "> if the cloud cover was less than 30 percent, start the processing.  Otherwise, skip to the next image.\n",
    "\n",
    "We do that in Python with `if` statements, which have the following syntax:\n",
    "\n",
    "```\n",
    "if <<True/False statement>>:\n",
    "    <<do something>>\n",
    "else:\n",
    "    <<do something else>>\n",
    "```\n",
    "Statements contained in `<<` `>>` are placeholders and should be filed with python code.  The `if`, `:`, `else:` and indenting are all part of the required syntax for an if statement."
   ]
  },
  {
   "cell_type": "code",
   "execution_count": 29,
   "id": "0e8c7d63-aabb-4c1d-a572-ebabcaf5ecbf",
   "metadata": {},
   "outputs": [
    {
     "name": "stdout",
     "output_type": "stream",
     "text": [
      "Too many clouds for processing\n"
     ]
    }
   ],
   "source": [
    "# If statement example\n",
    "cloud_cover = 50\n",
    "if cloud_cover < 30:\n",
    "    print('Good image for processing')\n",
    "else:\n",
    "    print('Too many clouds for processing')"
   ]
  },
  {
   "cell_type": "markdown",
   "id": "179ca699-7387-4b43-b662-b055be87494a",
   "metadata": {},
   "source": [
    "If you have multiple statements you can add in as many as you need after the first `if` using the syntax `elif`."
   ]
  },
  {
   "cell_type": "code",
   "execution_count": 30,
   "id": "3e70ba26-7f3a-4009-9c79-da126e205219",
   "metadata": {},
   "outputs": [
    {
     "name": "stdout",
     "output_type": "stream",
     "text": [
      "Potentially usable\n"
     ]
    }
   ],
   "source": [
    "# Including elif\n",
    "cloud_cover = 35\n",
    "if cloud_cover < 30:\n",
    "    print('Good image for processing')\n",
    "elif cloud_cover < 40:\n",
    "    print('Potentially usable')\n",
    "elif cloud_cover < 50:\n",
    "    print('Only if we are really desperate')\n",
    "else:\n",
    "    print('Too many clouds for processing')"
   ]
  },
  {
   "cell_type": "markdown",
   "id": "22123e95-de9e-4ca2-8131-fe88cb9c76b9",
   "metadata": {},
   "source": [
    "Notice that the if statement is exited as soon as it finds the first statement that returns true, starting from the top.  So we can write an if statement like in the following example, but no matter what the code will never hit the `elif`:"
   ]
  },
  {
   "cell_type": "code",
   "execution_count": 31,
   "id": "f523907a-00ee-4003-912a-216123368352",
   "metadata": {},
   "outputs": [
    {
     "name": "stdout",
     "output_type": "stream",
     "text": [
      "three is less than four\n"
     ]
    }
   ],
   "source": [
    "if 3 < 4:\n",
    "    print('three is less than four')\n",
    "elif 2 < 4:\n",
    "    print('two is less than four')"
   ]
  },
  {
   "cell_type": "markdown",
   "id": "518ee9a7-af3a-473d-9a74-f930daf97d2b",
   "metadata": {
    "user_expressions": []
   },
   "source": [
    ":::{admonition} Checkin\n",
    ":class: tip\n",
    "\n",
    "What will be the output of the following code block?\n",
    "```\n",
    "pH = 3.4\n",
    "if pH < 7:\n",
    "    print('acidic')\n",
    "elif pH == 7:\n",
    "    print('neutral')\n",
    "else:\n",
    "    print('basic')\n",
    "```\n",
    "a) acidic\n",
    "\n",
    "b) neutral\n",
    "\n",
    "c) basic\n",
    "\n",
    "d) acidicneutralbasic\n",
    "\n",
    "e) acidicbasic\n",
    "\n",
    "[Poll link](https://PollEv.com/clickable_images/WHersUlQe5SsG68KOHyfL/respond)\n",
    ":::"
   ]
  },
  {
   "cell_type": "markdown",
   "id": "4b402931-7aaf-4a16-8444-9554143e397c",
   "metadata": {},
   "source": [
    ":::{admonition} 💡 Key Ideas\n",
    ":class: note\n",
    "\n",
    "* If statements allow us to change how our code is executing based on a condition.\n",
    "* If statements use indenting as syntax and can also include `elif` and `else`. Code exits the if statement as soon as it finds the first True statement.\n",
    "\n",
    ":::"
   ]
  },
  {
   "cell_type": "markdown",
   "id": "0e0714c3-c9eb-4e69-bc25-6c0e946c118b",
   "metadata": {
    "user_expressions": []
   },
   "source": [
    "## From Data Types to Data Structures\n",
    "\n",
    "Data types are the first level of building blocks in code. Using data types we can build increasingly more complex objects which we call **data structures**.  Data structures are made up of groups of data types, organized differently depending on the strucutre. To end today we are going to look at one data structure: Lists.\n",
    "\n",
    "The data structures of lists and dictionaries are one step more complicated ways to organize data. This means we are expanding the type of data that we can represent."
   ]
  },
  {
   "cell_type": "markdown",
   "id": "393dbcc1-d59e-437e-b345-f31953708610",
   "metadata": {
    "user_expressions": []
   },
   "source": [
    "```{image} images/L2_lego_figures.jpeg\n",
    ":alt: Lego bricks\n",
    ":width: 400px\n",
    ":align: center\n",
    "```"
   ]
  },
  {
   "cell_type": "markdown",
   "id": "3e0d9e82-b7d3-46b7-88c7-6ad8bf6b52bb",
   "metadata": {
    "user_expressions": []
   },
   "source": [
    "## Lists"
   ]
  },
  {
   "cell_type": "markdown",
   "id": "6b243812-d4a4-4290-b3c7-3b3284432561",
   "metadata": {},
   "source": [
    "**Lists** are a data structure which represent a group of values. Their syntax is square brackets `[]` with a comma in between each item."
   ]
  },
  {
   "cell_type": "code",
   "execution_count": 1,
   "id": "918c3c6d-ea26-4dd7-be92-cd738e5ff2ca",
   "metadata": {
    "scrolled": true
   },
   "outputs": [
    {
     "data": {
      "text/plain": [
       "['co', 'co2', 'no2', 'o3']"
      ]
     },
     "execution_count": 1,
     "metadata": {},
     "output_type": "execute_result"
    }
   ],
   "source": [
    "# List of pollutants\n",
    "['co', 'co2', 'no2', 'o3']"
   ]
  },
  {
   "cell_type": "markdown",
   "id": "74ddf6b6-e1ca-4afe-8e44-8fc42c8bf374",
   "metadata": {},
   "source": [
    "We can see how data structures are made of data types in the previous example.  Here we have a list of `string`s\n",
    "\n",
    "`list` = [`str`, `str`, `str`, `str`]\n",
    "\n",
    "The next example is a list of `float`s"
   ]
  },
  {
   "cell_type": "code",
   "execution_count": 2,
   "id": "187a9c3f-1c98-4f18-9bb6-3c067e0936b5",
   "metadata": {},
   "outputs": [
    {
     "data": {
      "text/plain": [
       "[4.5, 1.0, 4.3, 4.3, 7.6]"
      ]
     },
     "execution_count": 2,
     "metadata": {},
     "output_type": "execute_result"
    }
   ],
   "source": [
    "# List of pH values\n",
    "[4.5, 1.0, 4.3, 4.3, 7.6]"
   ]
  },
  {
   "cell_type": "markdown",
   "id": "4bffe0fc-77d5-4ffa-99f6-bb7fce559975",
   "metadata": {},
   "source": [
    "Lists can be any data type, or a mix of data types.  You can assign a list as a variable the same way as we did for strings and integers, with an equal sign."
   ]
  },
  {
   "cell_type": "code",
   "execution_count": 3,
   "id": "62c5f678-ac7b-492b-a107-c0ff267641da",
   "metadata": {},
   "outputs": [],
   "source": [
    "list1 = [\"apple\", \"banana\", \"cherry\"]\n",
    "list2 = [1, 5, 7, 9, 3]\n",
    "list3 = [True, False, False]\n",
    "list4 = [\"abc\", 34, True, 40, \"male\"]"
   ]
  },
  {
   "cell_type": "code",
   "execution_count": 4,
   "id": "22e11b03-e23f-461c-b1cd-54074f9dac1d",
   "metadata": {},
   "outputs": [],
   "source": [
    "pollutants = ['co', 'co2', 'no2', 'o3']"
   ]
  },
  {
   "cell_type": "markdown",
   "id": "581cdbe7-9e0f-488b-9f13-7f410597e403",
   "metadata": {},
   "source": [
    "### List Indexes"
   ]
  },
  {
   "cell_type": "markdown",
   "id": "060c9a57-7174-420d-a460-ed2fec1bde3a",
   "metadata": {},
   "source": [
    "You access individual items in a list using an **index**.  An index is a number which represents the position of an item in the list."
   ]
  },
  {
   "cell_type": "code",
   "execution_count": 5,
   "id": "6a3746ef-14a1-44cc-89ed-c89e83bdc540",
   "metadata": {},
   "outputs": [],
   "source": [
    "colors = ['red', 'green', 'blue', 'yellow', 'white', 'black']"
   ]
  },
  {
   "cell_type": "markdown",
   "id": "26d787f4-803e-44e9-94b0-791c0ff3a1d1",
   "metadata": {
    "user_expressions": []
   },
   "source": [
    "A conceptual image of the `colors` list\n",
    "\n",
    "```{image} https://railsware.com/blog/wp-content/uploads/2018/10/positive-indexes.png\n",
    ":alt: colors list\n",
    ":width: 600px\n",
    ":align: center\n",
    "```\n",
    "\n",
    "_Image from [Railsware](https://railsware.com/blog/python-for-machine-learning-indexing-and-slicing-for-lists-tuples-strings-and-other-sequential-types/)_"
   ]
  },
  {
   "cell_type": "markdown",
   "id": "a916c49d-b09b-4ac4-95b4-b0cd66d07d0e",
   "metadata": {},
   "source": [
    "The syntax for indexing uses the index number and square brackets `[]`."
   ]
  },
  {
   "cell_type": "code",
   "execution_count": 6,
   "id": "5551ec85-747f-4a3d-9c14-eab69ec0170f",
   "metadata": {
    "scrolled": true
   },
   "outputs": [
    {
     "data": {
      "text/plain": [
       "'green'"
      ]
     },
     "execution_count": 6,
     "metadata": {},
     "output_type": "execute_result"
    }
   ],
   "source": [
    "# Which pollutant is at position 1 in the `pollutants` list?\n",
    "colors[1]"
   ]
  },
  {
   "cell_type": "markdown",
   "id": "9b70b2b4-94c8-460e-b648-7ac88e149830",
   "metadata": {
    "user_expressions": []
   },
   "source": [
    "````{seealso} Vocabulary\n",
    "\n",
    "**Index:** A number that represents the position of an item in a data structure.  “Indexing” as a verb refers to getting the value of that item using its index.\n",
    "\n",
    "````"
   ]
  },
  {
   "cell_type": "markdown",
   "id": "75977a03-4bfc-4c44-8db2-0e98ea250f31",
   "metadata": {
    "tags": []
   },
   "source": [
    "### 🌟Key Clarification\n",
    "In Python (and most programming langauges) you begin counting with indexes at 0 instead of at 1.  So `pollutants[1]` did not return the first item in the list, it returned the second.  You access the first item in the list using `pollutants[0]`.\n",
    "\n",
    "This concept of starting counting at 0 instead of 1 is true across the whole Python language."
   ]
  },
  {
   "cell_type": "markdown",
   "id": "85947523-1960-47fe-83ad-b1a2d19d34a6",
   "metadata": {
    "tags": []
   },
   "source": [
    "### More ways to index"
   ]
  },
  {
   "cell_type": "markdown",
   "id": "8213966e-b160-49e8-841a-b0bd50abf340",
   "metadata": {},
   "source": [
    "To access several values consecutively you use a colon `:`."
   ]
  },
  {
   "cell_type": "code",
   "execution_count": 7,
   "id": "57ddadb2-7ee5-42f8-960b-6834102ecc18",
   "metadata": {},
   "outputs": [
    {
     "data": {
      "text/plain": [
       "['green', 'blue']"
      ]
     },
     "execution_count": 7,
     "metadata": {},
     "output_type": "execute_result"
    }
   ],
   "source": [
    "colors[1:3]"
   ]
  },
  {
   "cell_type": "markdown",
   "id": "f1733778-d0fd-4692-b948-8333bdf32fa8",
   "metadata": {},
   "source": [
    "The general syntax is:\n",
    "> `list[start:end+1]`"
   ]
  },
  {
   "cell_type": "markdown",
   "id": "a1b22e09-829d-4ee7-a0e8-64ff28f216ff",
   "metadata": {},
   "source": [
    "The fact that you need `end+1` can feel a little off. The benefit of this approach is that subtractding your `start` from your `end` gives the number of items that should be returned. So in the example above, 3-1 = 2 and 2 items were returned from the list.\n",
    "\n",
    "We only sampled a few of the ways to index lists here.  If you want to read about more check out [this article](https://railsware.com/blog/python-for-machine-learning-indexing-and-slicing-for-lists-tuples-strings-and-other-sequential-types/) from Railsware."
   ]
  },
  {
   "cell_type": "markdown",
   "id": "ece72b48-65a8-4e7e-bca1-798495a69681",
   "metadata": {},
   "source": [
    "### 👀 Noticing patterns\n",
    "This sytnax for indexing - `[number]` or `[number:number]`- is really common in the Python language.  It works on many types of data structures, so keep your eyes open for the pattern!"
   ]
  },
  {
   "cell_type": "markdown",
   "id": "7b57753e-70e7-4858-8ecf-5ce14b6d6205",
   "metadata": {
    "user_expressions": []
   },
   "source": [
    ":::{admonition} Check your understanding\n",
    ":class: tip\n",
    "\n",
    "Use the following list to answer the questions:\n",
    "`pollutants = ['co', 'co2', 'no2', 'o3']`\n",
    "\n",
    "1. What would be the result of `pollutants[2]`?\n",
    "\n",
    "a) an error\n",
    "\n",
    "b) `co`\n",
    "\n",
    "c) `co2`\n",
    "\n",
    "d) `no2`\n",
    "\n",
    "e) `o3`\n",
    "\n",
    "[Poll link](https://PollEv.com/clickable_images/WHersUlQe5SsG68KOHyfL/respond)\n",
    "\n",
    ":::"
   ]
  },
  {
   "cell_type": "markdown",
   "id": "a23b5d42-ca96-4062-b62b-1745ca02b18b",
   "metadata": {},
   "source": [
    "## 🏋🏽 Doing things to lists: Functions/Methods"
   ]
  },
  {
   "cell_type": "markdown",
   "id": "b561053f-df0c-452b-ba71-d7e1650fc313",
   "metadata": {},
   "source": [
    "If data structures are like nouns in the english language then methods or functions are the verbs. Thus far we have created lots of variables of many different types.  **Functions** or **methods** will now enable us to do things to them.\n",
    "\n",
    "For example, when working with a list, you might want to:\n",
    "* know how many things are in your list\n",
    "* add a new item to a list\n",
    "* delete an item from a list \n",
    "\n",
    "On a vocabulary note, for now you can consider methods and functions to be the same thing."
   ]
  },
  {
   "cell_type": "markdown",
   "id": "c6aff6f2-50ec-4632-9edd-0b934e98470d",
   "metadata": {},
   "source": [
    "### Getting the length"
   ]
  },
  {
   "cell_type": "markdown",
   "id": "ecdc3f80-04ec-453a-9d66-e57f70d77938",
   "metadata": {},
   "source": [
    "One very common question you might ask about a list is \"How many things are in my list?\".  You answer this question using a function called `len()`, with is short for \"length\".  This gives the number of items in the list."
   ]
  },
  {
   "cell_type": "code",
   "execution_count": 8,
   "id": "cac33442-a27a-4af5-a512-e1268a2503bf",
   "metadata": {},
   "outputs": [
    {
     "data": {
      "text/plain": [
       "4"
      ]
     },
     "execution_count": 8,
     "metadata": {},
     "output_type": "execute_result"
    }
   ],
   "source": [
    "# Finding the number of items in a list\n",
    "len(pollutants)"
   ]
  },
  {
   "cell_type": "markdown",
   "id": "dae2e234-6f79-4d0a-9e63-3aa59cd8d534",
   "metadata": {},
   "source": [
    "The `len()` function is a good example of one of the two typical syntaxes of a function -- the name of the function, `len`, followed by regular parenthesis `()` with your object (in this case the list) inside the parenthesis."
   ]
  },
  {
   "cell_type": "markdown",
   "id": "1de1428e-f814-4c63-a468-4def17a92d15",
   "metadata": {
    "user_expressions": []
   },
   "source": [
    "````{seealso} Vocabulary\n",
    "\n",
    "**Function/Method:**  Actions that you use to manipulate or inspect an object, such as adding new numbers or sorting items\n",
    "\n",
    "````"
   ]
  },
  {
   "cell_type": "markdown",
   "id": "1bd662d8-ef35-42fd-88c6-097b33b4d51a",
   "metadata": {},
   "source": [
    "### Adding a new value"
   ]
  },
  {
   "cell_type": "markdown",
   "id": "09da3946-7919-45ee-8faf-07fa4f269ece",
   "metadata": {},
   "source": [
    "A different thing you might want to do to your list is add a new item. The syntax for this is `.append()`."
   ]
  },
  {
   "cell_type": "code",
   "execution_count": 9,
   "id": "86365ca7-7388-4f99-a564-163fe67d4fde",
   "metadata": {},
   "outputs": [
    {
     "name": "stdout",
     "output_type": "stream",
     "text": [
      "['co', 'co2', 'no2', 'o3']\n"
     ]
    }
   ],
   "source": [
    "# Starting list\n",
    "print(pollutants)"
   ]
  },
  {
   "cell_type": "code",
   "execution_count": 10,
   "id": "6add9d0c-59b9-46c4-9658-0aa91bd625c9",
   "metadata": {
    "scrolled": true
   },
   "outputs": [],
   "source": [
    "# Appending methane\n",
    "pollutants.append('ch4')"
   ]
  },
  {
   "cell_type": "code",
   "execution_count": 11,
   "id": "cbdbd4bc-9323-464c-a3ed-b1963243e5be",
   "metadata": {},
   "outputs": [
    {
     "name": "stdout",
     "output_type": "stream",
     "text": [
      "['co', 'co2', 'no2', 'o3', 'ch4']\n"
     ]
    }
   ],
   "source": [
    "# Updated list\n",
    "print(pollutants)"
   ]
  },
  {
   "cell_type": "markdown",
   "id": "c7ee736d-946f-46c5-bddb-18b06c24d24c",
   "metadata": {},
   "source": [
    "When using `.append()` we had to tell the method what the value was that we wanted to append, in this case `ch4`.  `ch4` is called an **argument**, which is an input into your function/method."
   ]
  },
  {
   "cell_type": "markdown",
   "id": "cfe89003-22c6-41af-ae06-e34948d9db34",
   "metadata": {},
   "source": [
    "`.append()` is an example of the other common syntax -- your object (ex. the list), a period `.`, the function name (ex. `append`), open parenthesis `()`.  If the method needs inputs(arguments) (Ex. `ch4` in the `append` example) they go inside the parenthesis."
   ]
  },
  {
   "cell_type": "markdown",
   "id": "13112c56-e8d0-4789-bf74-823758ae3e7e",
   "metadata": {},
   "source": [
    "There are lots of methods that you can use on lists.  10 of them are described pretty nicely in [this article](https://towardsdatascience.com/python-list-methods-fa7c53010300)."
   ]
  },
  {
   "cell_type": "markdown",
   "id": "afe4c84a-cd9c-4e41-baa4-c861875eb659",
   "metadata": {
    "user_expressions": []
   },
   "source": [
    "````{seealso} Vocabulary\n",
    "\n",
    "**Argument (arg 🏴‍☠️):**  An  input into a function that gives additional information about how to execute the function. Can be a plain argument or a keyword argument (kwarg)\n",
    "\n",
    "````"
   ]
  },
  {
   "cell_type": "markdown",
   "id": "77476b6f-f0a7-42c0-8b98-67929a8fcb71",
   "metadata": {},
   "source": [
    "### Changing (updating) a value"
   ]
  },
  {
   "cell_type": "markdown",
   "id": "dbb142dd-b706-4b16-a2f5-0e89c356b486",
   "metadata": {},
   "source": [
    "Another thing you might want to take is changing the value of an item.  This is so common you don't need to use a `.verb()`-type function for this.  You just use the same `[]` notation we used for indexing and an equals sign to update the value."
   ]
  },
  {
   "cell_type": "code",
   "execution_count": 12,
   "id": "bab44a1e-bd5f-4b08-8bdd-a06fbd595849",
   "metadata": {},
   "outputs": [
    {
     "data": {
      "text/plain": [
       "['co', 'co2', 'no2', 'o3', 'ch4']"
      ]
     },
     "execution_count": 12,
     "metadata": {},
     "output_type": "execute_result"
    }
   ],
   "source": [
    "# Original value of the 3rd item in `pollutants`\n",
    "pollutants"
   ]
  },
  {
   "cell_type": "code",
   "execution_count": 13,
   "id": "c288c758-4326-4de9-bd59-5fe1a43c5acb",
   "metadata": {},
   "outputs": [],
   "source": [
    "# Changing the value\n",
    "pollutants[2] = 'ch4'"
   ]
  },
  {
   "cell_type": "code",
   "execution_count": 14,
   "id": "2ddb8442-d75e-4cab-ae33-2ef0885fca44",
   "metadata": {},
   "outputs": [
    {
     "data": {
      "text/plain": [
       "['co', 'co2', 'ch4', 'o3', 'ch4']"
      ]
     },
     "execution_count": 14,
     "metadata": {},
     "output_type": "execute_result"
    }
   ],
   "source": [
    "# Notice the value in the 3rd position (index 2) has changed.\n",
    "pollutants"
   ]
  },
  {
   "cell_type": "markdown",
   "id": "2ca544e7-3f70-4028-ae95-18ba4e64bce6",
   "metadata": {
    "jp-MarkdownHeadingCollapsed": true,
    "tags": [],
    "user_expressions": []
   },
   "source": [
    ":::{admonition} Checkin\n",
    ":class: tip\n",
    "\n",
    "Start with the following line of code:\n",
    "`pollutants = ['co', 'co2', 'no2', 'o3']`\n",
    "1. Write a new line of code to add the value 'nox' to our `pollutants` list.\n",
    "2. Write a line of code to change the value 'no2' to 'bc'.\n",
    "\n",
    ":::"
   ]
  },
  {
   "cell_type": "markdown",
   "id": "5330c311-5315-4d61-9467-6e2e08d80a8f",
   "metadata": {},
   "source": [
    ":::{admonition} 🔥 Extend your understanding\n",
    ":class: tip\n",
    "\n",
    "[This article](https://towardsdatascience.com/python-list-methods-fa7c53010300) linked in the lecture describes a few common list methods. Scroll down to where the article talks about `sort()` and use that method on our pollutants list. For an extra challenge, sort the list in reverse alphabetically.\n",
    ":::"
   ]
  },
  {
   "cell_type": "markdown",
   "id": "1d026743-3411-498b-bfe2-ce5d305778f2",
   "metadata": {},
   "source": [
    ":::{admonition} 💡 Key Ideas\n",
    ":class: note\n",
    "1. Lists are a data type that hold a group of values.  They are defined with square brackets `[]` with commas in between values.\n",
    "2. **Indexes** are ways to access items in your list using the position of the value in the list as a number.\n",
    "2. In python we start counting from 0, not from 1 with indexes.\n",
    "2. Functions/methods (think of those two as the same thing right now) are actions you can take that let you ask a question about an object or change it somehow.  The two we looked at today are `len()` and `.append()`, which demonstrate the two common types of syntax.\n",
    ":::"
   ]
  },
  {
   "cell_type": "markdown",
   "id": "129c1496-8935-495c-bab5-118c6c342f48",
   "metadata": {
    "user_expressions": []
   },
   "source": [
    "## Closing Poll\n",
    "\n",
    "[The closing poll link](https://PollEv.com/clickable_images/WHersUlQe5SsG68KOHyfL/respond) which is, as all the others are, anonymous.\n",
    "\n",
    "Please shut down your server! (File > Hub Control Panel)"
   ]
  },
  {
   "cell_type": "code",
   "execution_count": null,
   "id": "eeab5265-3d27-4d15-94bb-f2537b588a90",
   "metadata": {},
   "outputs": [],
   "source": []
  }
 ],
 "metadata": {
  "kernelspec": {
   "display_name": "Python [conda env:notebook] *",
   "language": "python",
   "name": "conda-env-notebook-py"
  },
  "language_info": {
   "codemirror_mode": {
    "name": "ipython",
    "version": 3
   },
   "file_extension": ".py",
   "mimetype": "text/x-python",
   "name": "python",
   "nbconvert_exporter": "python",
   "pygments_lexer": "ipython3",
   "version": "3.9.13"
  }
 },
 "nbformat": 4,
 "nbformat_minor": 5
}
